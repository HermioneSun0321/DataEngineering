{
 "cells": [
  {
   "cell_type": "code",
   "execution_count": 2,
   "metadata": {},
   "outputs": [],
   "source": [
    "# Import libraries\n",
    "import pandas as pd\n",
    "import numpy as np\n",
    "import os\n",
    "\n",
    "from dvc.api import make_checkpoint\n",
    "\n",
    "# Display full outputs\n",
    "from IPython.core.interactiveshell import InteractiveShell\n",
    "InteractiveShell.ast_node_interactivity = \"all\"\n",
    "import warnings\n",
    "warnings.filterwarnings(\"ignore\")"
   ]
  },
  {
   "cell_type": "code",
   "execution_count": 3,
   "metadata": {},
   "outputs": [],
   "source": [
    "os.environ[\"JAVA_HOME\"] = \"/usr/lib/jvm/java-8-openjdk-amd64\"\n",
    "os.environ[\"SPARK_HOME\"] = \"/project/spark-3.2.1-bin-hadoop3.2\""
   ]
  },
  {
   "cell_type": "code",
   "execution_count": 4,
   "metadata": {},
   "outputs": [],
   "source": [
    "from pyspark.sql import SparkSession\n",
    "spark = SparkSession \\\n",
    "    .builder \\\n",
    "    .appName(\"PySpark App\") \\\n",
    "    .config(\"spark.jars\", \"postgresql-42.3.2.jar\") \\\n",
    "    .getOrCreate()"
   ]
  },
  {
   "cell_type": "markdown",
   "metadata": {},
   "source": [
    "### Write into PostgreSQL database"
   ]
  },
  {
   "cell_type": "code",
   "execution_count": 74,
   "metadata": {
    "scrolled": true
   },
   "outputs": [
    {
     "name": "stdout",
     "output_type": "stream",
     "text": [
      "\n",
      "         .:::.     .::.       \n",
      "        ....yy:    .yy.       \n",
      "        :.  .yy.    y.        \n",
      "             :y:   .:         \n",
      "             .yy  .:          \n",
      "              yy..:           \n",
      "              :y:.            \n",
      "              .y.             \n",
      "             .:.              \n",
      "        ....:.                \n",
      "        :::.                  \n",
      "\n",
      "• Project files and data should be stored in /project. This is shared among everyone\n",
      "  in the project.\n",
      "• Personal files and configuration should be stored in /home/faculty.\n",
      "• Files outside /project and /home/faculty will be lost when this server is terminated.\n",
      "• Create custom environments to setup your servers reproducibly.\n",
      "\n",
      "psql:schema.sql:1: NOTICE:  drop cascades to 11 other objects\n",
      "DETAIL:  drop cascades to table films.film_info\n",
      "drop cascades to table films.crew_cast\n",
      "drop cascades to table films.income\n",
      "drop cascades to table films.ranking\n",
      "drop cascades to table films.drama\n",
      "drop cascades to table films.action\n",
      "drop cascades to table films.adventure\n",
      "drop cascades to table films.crime\n",
      "drop cascades to table films.comedy\n",
      "drop cascades to table films.biography\n",
      "drop cascades to table films.other_genre\n",
      "DROP SCHEMA\n",
      "CREATE SCHEMA\n",
      "psql:schema.sql:5: NOTICE:  table \"film_info\" does not exist, skipping\n",
      "DROP TABLE\n",
      "psql:schema.sql:6: NOTICE:  table \"crew_cast\" does not exist, skipping\n",
      "DROP TABLE\n",
      "psql:schema.sql:7: NOTICE:  table \"income\" does not exist, skipping\n",
      "DROP TABLE\n",
      "psql:schema.sql:8: NOTICE:  table \"ranking\" does not exist, skipping\n",
      "DROP TABLE\n",
      "psql:schema.sql:9: NOTICE:  table \"drama\" does not exist, skipping\n",
      "DROP TABLE\n",
      "psql:schema.sql:10: NOTICE:  table \"action\" does not exist, skipping\n",
      "DROP TABLE\n",
      "psql:schema.sql:11: NOTICE:  table \"adventure\" does not exist, skipping\n",
      "DROP TABLE\n",
      "psql:schema.sql:12: NOTICE:  table \"crime\" does not exist, skipping\n",
      "DROP TABLE\n",
      "psql:schema.sql:13: NOTICE:  table \"comedy\" does not exist, skipping\n",
      "DROP TABLE\n",
      "psql:schema.sql:14: NOTICE:  table \"biography\" does not exist, skipping\n",
      "DROP TABLE\n",
      "psql:schema.sql:15: NOTICE:  table \"other_genre\" does not exist, skipping\n",
      "DROP TABLE\n",
      "CREATE TABLE\n",
      "CREATE TABLE\n",
      "CREATE TABLE\n",
      "CREATE TABLE\n",
      "CREATE TABLE\n",
      "CREATE TABLE\n",
      "CREATE TABLE\n",
      "CREATE TABLE\n",
      "CREATE TABLE\n",
      "CREATE TABLE\n",
      "CREATE TABLE\n"
     ]
    }
   ],
   "source": [
    "# Create the schema\n",
    "!PGPASSWORD=qwerty123 psql -h depgdb.crhso94tou3n.eu-west-2.rds.amazonaws.com -d yihansun21 -U yihansun21 -c '\\i schema.sql'"
   ]
  },
  {
   "cell_type": "code",
   "execution_count": 75,
   "metadata": {},
   "outputs": [],
   "source": [
    "# Read all the tables\n",
    "film_info = spark.read.parquet(\"/project/Individual/parquet_files/film_info.parquet\")\n",
    "crew_cast = spark.read.parquet(\"/project/Individual/parquet_files/crew_cast.parquet\")\n",
    "income = spark.read.parquet(\"/project/Individual/parquet_files/income.parquet\")\n",
    "ranking = spark.read.parquet(\"/project/Individual/parquet_files/ranking.parquet\")\n",
    "drama = spark.read.parquet(\"/project/Individual/parquet_files/drama.parquet\")\n",
    "action = spark.read.parquet(\"/project/Individual/parquet_files/action.parquet\")\n",
    "adventure = spark.read.parquet(\"/project/Individual/parquet_files/adventure.parquet\")\n",
    "crime = spark.read.parquet(\"/project/Individual/parquet_files/crime.parquet\")\n",
    "comedy = spark.read.parquet(\"/project/Individual/parquet_files/comedy.parquet\")\n",
    "biography = spark.read.parquet(\"/project/Individual/parquet_files/biography.parquet\")\n",
    "other_genre = spark.read.parquet(\"/project/Individual/parquet_files/other_genre.parquet\")\n",
    "make_checkpoint()"
   ]
  },
  {
   "cell_type": "code",
   "execution_count": 76,
   "metadata": {},
   "outputs": [],
   "source": [
    "# Information for postgresql login\n",
    "postgres_uri = \"jdbc:postgresql://depgdb.crhso94tou3n.eu-west-2.rds.amazonaws.com:5432/yihansun21\"\n",
    "user = \"yihansun21\"\n",
    "password = \"qwerty123\""
   ]
  },
  {
   "cell_type": "code",
   "execution_count": 77,
   "metadata": {
    "scrolled": true
   },
   "outputs": [],
   "source": [
    "# Write the tables into database\n",
    "film_info.write.jdbc(url=postgres_uri, table=\"films.film_info\", mode=\"append\", properties={\"user\":user, \"password\": password, \"driver\": \"org.postgresql.Driver\" })\n",
    "make_checkpoint()\n",
    "crew_cast.write.jdbc(url=postgres_uri, table=\"films.crew_cast\", mode=\"append\", properties={\"user\":user, \"password\": password, \"driver\": \"org.postgresql.Driver\" })\n",
    "make_checkpoint()\n",
    "income.write.jdbc(url=postgres_uri, table=\"films.income\", mode=\"append\", properties={\"user\":user, \"password\": password, \"driver\": \"org.postgresql.Driver\" })\n",
    "make_checkpoint()\n",
    "ranking.write.jdbc(url=postgres_uri, table=\"films.ranking\", mode=\"append\", properties={\"user\":user, \"password\": password, \"driver\": \"org.postgresql.Driver\" })\n",
    "make_checkpoint()\n",
    "drama.write.jdbc(url=postgres_uri, table=\"films.drama\", mode=\"append\", properties={\"user\":user, \"password\": password, \"driver\": \"org.postgresql.Driver\" })\n",
    "make_checkpoint()\n",
    "action.write.jdbc(url=postgres_uri, table=\"films.action\", mode=\"append\", properties={\"user\":user, \"password\": password, \"driver\": \"org.postgresql.Driver\" })\n",
    "make_checkpoint()\n",
    "adventure.write.jdbc(url=postgres_uri, table=\"films.adventure\", mode=\"append\", properties={\"user\":user, \"password\": password, \"driver\": \"org.postgresql.Driver\" })\n",
    "make_checkpoint()\n",
    "crime.write.jdbc(url=postgres_uri, table=\"films.crime\", mode=\"append\", properties={\"user\":user, \"password\": password, \"driver\": \"org.postgresql.Driver\" })\n",
    "make_checkpoint()\n",
    "comedy.write.jdbc(url=postgres_uri, table=\"films.comedy\", mode=\"append\", properties={\"user\":user, \"password\": password, \"driver\": \"org.postgresql.Driver\" })\n",
    "make_checkpoint()\n",
    "biography.write.jdbc(url=postgres_uri, table=\"films.biography\", mode=\"append\", properties={\"user\":user, \"password\": password, \"driver\": \"org.postgresql.Driver\" })\n",
    "make_checkpoint()\n",
    "other_genre.write.jdbc(url=postgres_uri, table=\"films.other_genre\", mode=\"append\", properties={\"user\":user, \"password\": password, \"driver\": \"org.postgresql.Driver\" })\n",
    "make_checkpoint()"
   ]
  }
 ],
 "metadata": {
  "kernelspec": {
   "display_name": "Python [conda env:Python3] *",
   "language": "python",
   "name": "conda-env-Python3-py"
  },
  "language_info": {
   "codemirror_mode": {
    "name": "ipython",
    "version": 3
   },
   "file_extension": ".py",
   "mimetype": "text/x-python",
   "name": "python",
   "nbconvert_exporter": "python",
   "pygments_lexer": "ipython3",
   "version": "3.8.2"
  }
 },
 "nbformat": 4,
 "nbformat_minor": 2
}
